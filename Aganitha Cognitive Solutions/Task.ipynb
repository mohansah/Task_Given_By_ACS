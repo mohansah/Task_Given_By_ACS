{
 "cells": [
  {
   "cell_type": "code",
   "execution_count": 1,
   "metadata": {},
   "outputs": [
    {
     "name": "stdout",
     "output_type": "stream",
     "text": [
      "Speak: \n",
      "You said: United State of America\n",
      "Modified Text:  USA\n"
     ]
    }
   ],
   "source": [
    "import speech_recognition as sr # open source package\n",
    "from convert import converter #self deined package (User defined)\n",
    "\n",
    "# makes object\n",
    "c = converter.converter()\n",
    "\n",
    "#Initialize the recognizer                                                                       \n",
    "r = sr.Recognizer()\n",
    "\n",
    "#use the microphone as source for input\n",
    "with sr.Microphone() as source:                                                                       \n",
    "    print(\"Speak: \")\n",
    "    #listens for the user's input \n",
    "    audio = r.listen(source)   \n",
    "\n",
    "try:\n",
    "    #Recognize the user's input\n",
    "    text = r.recognize_google(audio)\n",
    "    print(\"You said: \" + text)\n",
    "    # pass the text to the function convertParagraph() which is defined in the package, return will be a modified text\n",
    "    modified_text = c.convertParagraph(text) \n",
    "    print(\"Modified Text: \", modified_text)\n",
    "except:\n",
    "    #error occurs when could not understand what was said\n",
    "    print(\"Could not understand audio, Please speak in a proper way\")"
   ]
  },
  {
   "cell_type": "code",
   "execution_count": null,
   "metadata": {},
   "outputs": [],
   "source": []
  }
 ],
 "metadata": {
  "kernelspec": {
   "display_name": "Python 3",
   "language": "python",
   "name": "python3"
  },
  "language_info": {
   "codemirror_mode": {
    "name": "ipython",
    "version": 3
   },
   "file_extension": ".py",
   "mimetype": "text/x-python",
   "name": "python",
   "nbconvert_exporter": "python",
   "pygments_lexer": "ipython3",
   "version": "3.6.8"
  }
 },
 "nbformat": 4,
 "nbformat_minor": 2
}
