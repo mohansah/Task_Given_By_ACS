{
 "cells": [
  {
   "cell_type": "code",
   "execution_count": 1,
   "metadata": {},
   "outputs": [],
   "source": [
    "# importing necessary packages\n",
    "import numpy as np\n",
    "import pandas as pd\n",
    "import matplotlib.pyplot as plt\n",
    "import seaborn as sns\n",
    "from sklearn.model_selection import train_test_split\n",
    "from sklearn.preprocessing import StandardScaler\n",
    "import warnings\n",
    "warnings.filterwarnings('ignore')\n",
    "\n",
    "# Algorithmns models to be compared\n",
    "from sklearn.ensemble import RandomForestClassifier\n",
    "from sklearn.linear_model import LogisticRegression\n",
    "from sklearn.tree import DecisionTreeClassifier\n",
    "from sklearn.neighbors import KNeighborsClassifier\n",
    "from sklearn.ensemble import RandomForestClassifier\n",
    "from sklearn.discriminant_analysis import LinearDiscriminantAnalysis\n",
    "from sklearn.naive_bayes import GaussianNB\n",
    "from sklearn.svm import SVC"
   ]
  },
  {
   "cell_type": "code",
   "execution_count": 2,
   "metadata": {},
   "outputs": [
    {
     "data": {
      "text/html": [
       "<div>\n",
       "<style scoped>\n",
       "    .dataframe tbody tr th:only-of-type {\n",
       "        vertical-align: middle;\n",
       "    }\n",
       "\n",
       "    .dataframe tbody tr th {\n",
       "        vertical-align: top;\n",
       "    }\n",
       "\n",
       "    .dataframe thead th {\n",
       "        text-align: right;\n",
       "    }\n",
       "</style>\n",
       "<table border=\"1\" class=\"dataframe\">\n",
       "  <thead>\n",
       "    <tr style=\"text-align: right;\">\n",
       "      <th></th>\n",
       "      <th>OBS#</th>\n",
       "      <th>CHK_ACCT</th>\n",
       "      <th>DURATION</th>\n",
       "      <th>HISTORY</th>\n",
       "      <th>NEW_CAR</th>\n",
       "      <th>USED_CAR</th>\n",
       "      <th>FURNITURE</th>\n",
       "      <th>RADIO/TV</th>\n",
       "      <th>EDUCATION</th>\n",
       "      <th>RETRAINING</th>\n",
       "      <th>...</th>\n",
       "      <th>AGE</th>\n",
       "      <th>OTHER_INSTALL</th>\n",
       "      <th>RENT</th>\n",
       "      <th>OWN_RES</th>\n",
       "      <th>NUM_CREDITS</th>\n",
       "      <th>JOB</th>\n",
       "      <th>NUM_DEPENDENTS</th>\n",
       "      <th>TELEPHONE</th>\n",
       "      <th>FOREIGN</th>\n",
       "      <th>RESPONSE</th>\n",
       "    </tr>\n",
       "  </thead>\n",
       "  <tbody>\n",
       "    <tr>\n",
       "      <th>0</th>\n",
       "      <td>1.0</td>\n",
       "      <td>0.0</td>\n",
       "      <td>6.0</td>\n",
       "      <td>4.0</td>\n",
       "      <td>0.0</td>\n",
       "      <td>0.0</td>\n",
       "      <td>0.0</td>\n",
       "      <td>1.0</td>\n",
       "      <td>0.0</td>\n",
       "      <td>0.0</td>\n",
       "      <td>...</td>\n",
       "      <td>67.0</td>\n",
       "      <td>0.0</td>\n",
       "      <td>0.0</td>\n",
       "      <td>1.0</td>\n",
       "      <td>2.0</td>\n",
       "      <td>2.0</td>\n",
       "      <td>1.0</td>\n",
       "      <td>1.0</td>\n",
       "      <td>0.0</td>\n",
       "      <td>1.0</td>\n",
       "    </tr>\n",
       "    <tr>\n",
       "      <th>1</th>\n",
       "      <td>2.0</td>\n",
       "      <td>1.0</td>\n",
       "      <td>48.0</td>\n",
       "      <td>2.0</td>\n",
       "      <td>0.0</td>\n",
       "      <td>0.0</td>\n",
       "      <td>0.0</td>\n",
       "      <td>1.0</td>\n",
       "      <td>0.0</td>\n",
       "      <td>0.0</td>\n",
       "      <td>...</td>\n",
       "      <td>22.0</td>\n",
       "      <td>0.0</td>\n",
       "      <td>0.0</td>\n",
       "      <td>1.0</td>\n",
       "      <td>1.0</td>\n",
       "      <td>2.0</td>\n",
       "      <td>1.0</td>\n",
       "      <td>0.0</td>\n",
       "      <td>0.0</td>\n",
       "      <td>0.0</td>\n",
       "    </tr>\n",
       "    <tr>\n",
       "      <th>2</th>\n",
       "      <td>3.0</td>\n",
       "      <td>3.0</td>\n",
       "      <td>12.0</td>\n",
       "      <td>4.0</td>\n",
       "      <td>0.0</td>\n",
       "      <td>0.0</td>\n",
       "      <td>0.0</td>\n",
       "      <td>0.0</td>\n",
       "      <td>1.0</td>\n",
       "      <td>0.0</td>\n",
       "      <td>...</td>\n",
       "      <td>49.0</td>\n",
       "      <td>0.0</td>\n",
       "      <td>0.0</td>\n",
       "      <td>1.0</td>\n",
       "      <td>1.0</td>\n",
       "      <td>1.0</td>\n",
       "      <td>2.0</td>\n",
       "      <td>0.0</td>\n",
       "      <td>0.0</td>\n",
       "      <td>1.0</td>\n",
       "    </tr>\n",
       "    <tr>\n",
       "      <th>3</th>\n",
       "      <td>4.0</td>\n",
       "      <td>0.0</td>\n",
       "      <td>42.0</td>\n",
       "      <td>2.0</td>\n",
       "      <td>0.0</td>\n",
       "      <td>0.0</td>\n",
       "      <td>1.0</td>\n",
       "      <td>0.0</td>\n",
       "      <td>0.0</td>\n",
       "      <td>0.0</td>\n",
       "      <td>...</td>\n",
       "      <td>45.0</td>\n",
       "      <td>0.0</td>\n",
       "      <td>0.0</td>\n",
       "      <td>0.0</td>\n",
       "      <td>1.0</td>\n",
       "      <td>2.0</td>\n",
       "      <td>2.0</td>\n",
       "      <td>0.0</td>\n",
       "      <td>0.0</td>\n",
       "      <td>1.0</td>\n",
       "    </tr>\n",
       "    <tr>\n",
       "      <th>4</th>\n",
       "      <td>5.0</td>\n",
       "      <td>0.0</td>\n",
       "      <td>24.0</td>\n",
       "      <td>3.0</td>\n",
       "      <td>1.0</td>\n",
       "      <td>0.0</td>\n",
       "      <td>0.0</td>\n",
       "      <td>0.0</td>\n",
       "      <td>0.0</td>\n",
       "      <td>0.0</td>\n",
       "      <td>...</td>\n",
       "      <td>53.0</td>\n",
       "      <td>0.0</td>\n",
       "      <td>0.0</td>\n",
       "      <td>0.0</td>\n",
       "      <td>2.0</td>\n",
       "      <td>2.0</td>\n",
       "      <td>2.0</td>\n",
       "      <td>0.0</td>\n",
       "      <td>0.0</td>\n",
       "      <td>0.0</td>\n",
       "    </tr>\n",
       "  </tbody>\n",
       "</table>\n",
       "<p>5 rows × 32 columns</p>\n",
       "</div>"
      ],
      "text/plain": [
       "   OBS#  CHK_ACCT  DURATION  HISTORY  NEW_CAR  USED_CAR  FURNITURE  RADIO/TV  \\\n",
       "0   1.0       0.0       6.0      4.0      0.0       0.0        0.0       1.0   \n",
       "1   2.0       1.0      48.0      2.0      0.0       0.0        0.0       1.0   \n",
       "2   3.0       3.0      12.0      4.0      0.0       0.0        0.0       0.0   \n",
       "3   4.0       0.0      42.0      2.0      0.0       0.0        1.0       0.0   \n",
       "4   5.0       0.0      24.0      3.0      1.0       0.0        0.0       0.0   \n",
       "\n",
       "   EDUCATION  RETRAINING  ...   AGE  OTHER_INSTALL  RENT  OWN_RES  \\\n",
       "0        0.0         0.0  ...  67.0            0.0   0.0      1.0   \n",
       "1        0.0         0.0  ...  22.0            0.0   0.0      1.0   \n",
       "2        1.0         0.0  ...  49.0            0.0   0.0      1.0   \n",
       "3        0.0         0.0  ...  45.0            0.0   0.0      0.0   \n",
       "4        0.0         0.0  ...  53.0            0.0   0.0      0.0   \n",
       "\n",
       "   NUM_CREDITS  JOB  NUM_DEPENDENTS  TELEPHONE  FOREIGN  RESPONSE  \n",
       "0          2.0  2.0             1.0        1.0      0.0       1.0  \n",
       "1          1.0  2.0             1.0        0.0      0.0       0.0  \n",
       "2          1.0  1.0             2.0        0.0      0.0       1.0  \n",
       "3          1.0  2.0             2.0        0.0      0.0       1.0  \n",
       "4          2.0  2.0             2.0        0.0      0.0       0.0  \n",
       "\n",
       "[5 rows x 32 columns]"
      ]
     },
     "execution_count": 2,
     "metadata": {},
     "output_type": "execute_result"
    }
   ],
   "source": [
    "# Loading the txt file\n",
    "df=pd.read_csv(\"ModelingData.txt\", sep=\"\\t\")\n",
    "# Printing first 5 rows\n",
    "df.head(5)"
   ]
  },
  {
   "cell_type": "code",
   "execution_count": 3,
   "metadata": {},
   "outputs": [],
   "source": [
    "# drops Observation No column because it is not important for prediction\n",
    "df.drop(\"OBS#\", axis = 1, inplace = True)"
   ]
  },
  {
   "cell_type": "code",
   "execution_count": 4,
   "metadata": {},
   "outputs": [
    {
     "data": {
      "text/plain": [
       "(1002, 31)"
      ]
     },
     "execution_count": 4,
     "metadata": {},
     "output_type": "execute_result"
    }
   ],
   "source": [
    "# Printing dimension of dataset (Rows, Columns)\n",
    "df.shape"
   ]
  },
  {
   "cell_type": "code",
   "execution_count": 5,
   "metadata": {},
   "outputs": [
    {
     "name": "stdout",
     "output_type": "stream",
     "text": [
      "<class 'pandas.core.frame.DataFrame'>\n",
      "RangeIndex: 1002 entries, 0 to 1001\n",
      "Data columns (total 31 columns):\n",
      "CHK_ACCT            1000 non-null float64\n",
      "DURATION            1000 non-null float64\n",
      "HISTORY             1000 non-null float64\n",
      "NEW_CAR             1000 non-null float64\n",
      "USED_CAR            1000 non-null float64\n",
      "FURNITURE           1000 non-null float64\n",
      "RADIO/TV            1000 non-null float64\n",
      "EDUCATION           1000 non-null float64\n",
      "RETRAINING          1000 non-null float64\n",
      "AMOUNT              1000 non-null float64\n",
      "SAV_ACCT            1000 non-null float64\n",
      "EMPLOYMENT          1000 non-null float64\n",
      "INSTALL_RATE        1000 non-null float64\n",
      "MALE_DIV            1000 non-null float64\n",
      "MALE_SINGLE         1000 non-null float64\n",
      "MALE_MAR_or_WID     1000 non-null float64\n",
      "CO-APPLICANT        1000 non-null float64\n",
      "GUARANTOR           1000 non-null float64\n",
      "PRESENT_RESIDENT    1000 non-null float64\n",
      "REAL_ESTATE         1000 non-null float64\n",
      "PROP_UNKN_NONE      1000 non-null float64\n",
      "AGE                 1000 non-null float64\n",
      "OTHER_INSTALL       1000 non-null float64\n",
      "RENT                1000 non-null float64\n",
      "OWN_RES             1000 non-null float64\n",
      "NUM_CREDITS         1000 non-null float64\n",
      "JOB                 1000 non-null float64\n",
      "NUM_DEPENDENTS      1000 non-null float64\n",
      "TELEPHONE           1000 non-null float64\n",
      "FOREIGN             1000 non-null float64\n",
      "RESPONSE            1000 non-null float64\n",
      "dtypes: float64(31)\n",
      "memory usage: 242.8 KB\n"
     ]
    }
   ],
   "source": [
    "# Information about Null Values and data types\n",
    "df.info()"
   ]
  },
  {
   "cell_type": "code",
   "execution_count": 6,
   "metadata": {},
   "outputs": [
    {
     "data": {
      "text/plain": [
       "CHK_ACCT            2\n",
       "DURATION            2\n",
       "HISTORY             2\n",
       "NEW_CAR             2\n",
       "USED_CAR            2\n",
       "FURNITURE           2\n",
       "RADIO/TV            2\n",
       "EDUCATION           2\n",
       "RETRAINING          2\n",
       "AMOUNT              2\n",
       "SAV_ACCT            2\n",
       "EMPLOYMENT          2\n",
       "INSTALL_RATE        2\n",
       "MALE_DIV            2\n",
       "MALE_SINGLE         2\n",
       "MALE_MAR_or_WID     2\n",
       "CO-APPLICANT        2\n",
       "GUARANTOR           2\n",
       "PRESENT_RESIDENT    2\n",
       "REAL_ESTATE         2\n",
       "PROP_UNKN_NONE      2\n",
       "AGE                 2\n",
       "OTHER_INSTALL       2\n",
       "RENT                2\n",
       "OWN_RES             2\n",
       "NUM_CREDITS         2\n",
       "JOB                 2\n",
       "NUM_DEPENDENTS      2\n",
       "TELEPHONE           2\n",
       "FOREIGN             2\n",
       "RESPONSE            2\n",
       "dtype: int64"
      ]
     },
     "execution_count": 6,
     "metadata": {},
     "output_type": "execute_result"
    }
   ],
   "source": [
    "# Prints number of null value in each columns\n",
    "df.isnull().sum()"
   ]
  },
  {
   "cell_type": "markdown",
   "metadata": {},
   "source": [
    "# Data Cleaning"
   ]
  },
  {
   "cell_type": "code",
   "execution_count": 7,
   "metadata": {},
   "outputs": [
    {
     "data": {
      "text/plain": [
       "CHK_ACCT            0.006957\n",
       "DURATION            1.094184\n",
       "HISTORY            -0.011886\n",
       "NEW_CAR             1.258466\n",
       "USED_CAR            2.616121\n",
       "FURNITURE           1.659555\n",
       "RADIO/TV            0.981431\n",
       "EDUCATION           4.135689\n",
       "RETRAINING          2.727454\n",
       "AMOUNT              1.949628\n",
       "SAV_ACCT            1.016677\n",
       "EMPLOYMENT         -0.117615\n",
       "INSTALL_RATE       -0.531348\n",
       "MALE_DIV            4.135689\n",
       "MALE_SINGLE        -0.193181\n",
       "MALE_MAR_or_WID     2.827519\n",
       "CO-APPLICANT        4.636536\n",
       "GUARANTOR           4.041610\n",
       "PRESENT_RESIDENT   -0.272570\n",
       "REAL_ESTATE         0.970403\n",
       "PROP_UNKN_NONE      1.920051\n",
       "AGE                 1.020739\n",
       "OTHER_INSTALL       1.616379\n",
       "RENT                1.677217\n",
       "OWN_RES            -0.943140\n",
       "NUM_CREDITS         1.272576\n",
       "JOB                -0.374295\n",
       "NUM_DEPENDENTS      1.909445\n",
       "TELEPHONE           0.391868\n",
       "FOREIGN             4.913027\n",
       "RESPONSE           -0.874183\n",
       "dtype: float64"
      ]
     },
     "execution_count": 7,
     "metadata": {},
     "output_type": "execute_result"
    }
   ],
   "source": [
    "# For Numerical Data\n",
    "df.skew()"
   ]
  },
  {
   "cell_type": "markdown",
   "metadata": {},
   "source": [
    "In general\n",
    "\n",
    "Skew value is less than -0.5 -> Left Skewed\n",
    "\n",
    "Skew value between -0.5 to 0.5 -> Normalized data\n",
    "\n",
    "Skew value is greater than 0.5 -> Right Skewed\n",
    "\n",
    "There are few values in the columns which have no values, which in turn leads to inconsistency during prediction. Thus, we replace these values and it is done as follows:\n",
    "\n",
    "1. Check for skewness of the particular feature.\n",
    "2. If it is normalized we replace it with the Mean value.\n",
    "3. If it is Right-skewed or Left-skewed we replace it with the Median value."
   ]
  },
  {
   "cell_type": "code",
   "execution_count": 8,
   "metadata": {},
   "outputs": [],
   "source": [
    "# Listing the columns according to the skewness\n",
    "df1 = pd.DataFrame([df.skew()])\n",
    "Normalized_Data=[]\n",
    "Right_Skew=[]\n",
    "Left_Skew=[]\n",
    "for label in df.columns:\n",
    "    if df1[label][0] < -0.5:\n",
    "        Left_Skew.append(label)\n",
    "    elif df1[label][0] <=0.5:\n",
    "        Normalized_Data.append(label)\n",
    "    else:\n",
    "        Right_Skew.append(label)"
   ]
  },
  {
   "cell_type": "code",
   "execution_count": 9,
   "metadata": {},
   "outputs": [
    {
     "data": {
      "text/plain": [
       "['INSTALL_RATE', 'OWN_RES', 'RESPONSE']"
      ]
     },
     "execution_count": 9,
     "metadata": {},
     "output_type": "execute_result"
    }
   ],
   "source": [
    "# Prints columns name which are Left Skewed\n",
    "Left_Skew"
   ]
  },
  {
   "cell_type": "code",
   "execution_count": 10,
   "metadata": {},
   "outputs": [
    {
     "data": {
      "text/plain": [
       "['CHK_ACCT',\n",
       " 'HISTORY',\n",
       " 'EMPLOYMENT',\n",
       " 'MALE_SINGLE',\n",
       " 'PRESENT_RESIDENT',\n",
       " 'JOB',\n",
       " 'TELEPHONE']"
      ]
     },
     "execution_count": 10,
     "metadata": {},
     "output_type": "execute_result"
    }
   ],
   "source": [
    "# Prints columns name which are Normal\n",
    "Normalized_Data"
   ]
  },
  {
   "cell_type": "code",
   "execution_count": 11,
   "metadata": {},
   "outputs": [
    {
     "data": {
      "text/plain": [
       "['DURATION',\n",
       " 'NEW_CAR',\n",
       " 'USED_CAR',\n",
       " 'FURNITURE',\n",
       " 'RADIO/TV',\n",
       " 'EDUCATION',\n",
       " 'RETRAINING',\n",
       " 'AMOUNT',\n",
       " 'SAV_ACCT',\n",
       " 'MALE_DIV',\n",
       " 'MALE_MAR_or_WID',\n",
       " 'CO-APPLICANT',\n",
       " 'GUARANTOR',\n",
       " 'REAL_ESTATE',\n",
       " 'PROP_UNKN_NONE',\n",
       " 'AGE',\n",
       " 'OTHER_INSTALL',\n",
       " 'RENT',\n",
       " 'NUM_CREDITS',\n",
       " 'NUM_DEPENDENTS',\n",
       " 'FOREIGN']"
      ]
     },
     "execution_count": 11,
     "metadata": {},
     "output_type": "execute_result"
    }
   ],
   "source": [
    "# Prints columns name which are Right Skewed\n",
    "Right_Skew"
   ]
  },
  {
   "cell_type": "code",
   "execution_count": 12,
   "metadata": {},
   "outputs": [],
   "source": [
    "# Replacing NaN value on the basis of skewness\n",
    "\n",
    "# For Normalized data\n",
    "for label in Normalized_Data:\n",
    "    df[label].fillna(round(df[label].mean()),inplace=True) # Round() function is used because some coloumns are binary so by rounding value will become integer\n",
    "\n",
    "# For Left and Right Skewness\n",
    "for label in Right_Skew+Left_Skew:\n",
    "    df[label].fillna(df[label].median(),inplace=True)"
   ]
  },
  {
   "cell_type": "code",
   "execution_count": 13,
   "metadata": {},
   "outputs": [
    {
     "data": {
      "text/plain": [
       "CHK_ACCT            0\n",
       "DURATION            0\n",
       "HISTORY             0\n",
       "NEW_CAR             0\n",
       "USED_CAR            0\n",
       "FURNITURE           0\n",
       "RADIO/TV            0\n",
       "EDUCATION           0\n",
       "RETRAINING          0\n",
       "AMOUNT              0\n",
       "SAV_ACCT            0\n",
       "EMPLOYMENT          0\n",
       "INSTALL_RATE        0\n",
       "MALE_DIV            0\n",
       "MALE_SINGLE         0\n",
       "MALE_MAR_or_WID     0\n",
       "CO-APPLICANT        0\n",
       "GUARANTOR           0\n",
       "PRESENT_RESIDENT    0\n",
       "REAL_ESTATE         0\n",
       "PROP_UNKN_NONE      0\n",
       "AGE                 0\n",
       "OTHER_INSTALL       0\n",
       "RENT                0\n",
       "OWN_RES             0\n",
       "NUM_CREDITS         0\n",
       "JOB                 0\n",
       "NUM_DEPENDENTS      0\n",
       "TELEPHONE           0\n",
       "FOREIGN             0\n",
       "RESPONSE            0\n",
       "dtype: int64"
      ]
     },
     "execution_count": 13,
     "metadata": {},
     "output_type": "execute_result"
    }
   ],
   "source": [
    "# Crosschecks that number of null value in each column\n",
    "df.isnull().sum()"
   ]
  },
  {
   "cell_type": "markdown",
   "metadata": {},
   "source": [
    "Now we can see that there are ni null value in any column"
   ]
  },
  {
   "cell_type": "markdown",
   "metadata": {},
   "source": [
    "# Data Visualisation"
   ]
  },
  {
   "cell_type": "code",
   "execution_count": 14,
   "metadata": {},
   "outputs": [
    {
     "data": {
      "text/html": [
       "<div>\n",
       "<style scoped>\n",
       "    .dataframe tbody tr th:only-of-type {\n",
       "        vertical-align: middle;\n",
       "    }\n",
       "\n",
       "    .dataframe tbody tr th {\n",
       "        vertical-align: top;\n",
       "    }\n",
       "\n",
       "    .dataframe thead th {\n",
       "        text-align: right;\n",
       "    }\n",
       "</style>\n",
       "<table border=\"1\" class=\"dataframe\">\n",
       "  <thead>\n",
       "    <tr style=\"text-align: right;\">\n",
       "      <th></th>\n",
       "      <th>CHK_ACCT</th>\n",
       "      <th>DURATION</th>\n",
       "      <th>HISTORY</th>\n",
       "      <th>NEW_CAR</th>\n",
       "      <th>USED_CAR</th>\n",
       "      <th>FURNITURE</th>\n",
       "      <th>RADIO/TV</th>\n",
       "      <th>EDUCATION</th>\n",
       "      <th>RETRAINING</th>\n",
       "      <th>AMOUNT</th>\n",
       "      <th>...</th>\n",
       "      <th>AGE</th>\n",
       "      <th>OTHER_INSTALL</th>\n",
       "      <th>RENT</th>\n",
       "      <th>OWN_RES</th>\n",
       "      <th>NUM_CREDITS</th>\n",
       "      <th>JOB</th>\n",
       "      <th>NUM_DEPENDENTS</th>\n",
       "      <th>TELEPHONE</th>\n",
       "      <th>FOREIGN</th>\n",
       "      <th>RESPONSE</th>\n",
       "    </tr>\n",
       "  </thead>\n",
       "  <tbody>\n",
       "    <tr>\n",
       "      <th>0</th>\n",
       "      <td>0.0</td>\n",
       "      <td>6.0</td>\n",
       "      <td>4.0</td>\n",
       "      <td>0.0</td>\n",
       "      <td>0.0</td>\n",
       "      <td>0.0</td>\n",
       "      <td>1.0</td>\n",
       "      <td>0.0</td>\n",
       "      <td>0.0</td>\n",
       "      <td>1169.0</td>\n",
       "      <td>...</td>\n",
       "      <td>67.0</td>\n",
       "      <td>0.0</td>\n",
       "      <td>0.0</td>\n",
       "      <td>1.0</td>\n",
       "      <td>2.0</td>\n",
       "      <td>2.0</td>\n",
       "      <td>1.0</td>\n",
       "      <td>1.0</td>\n",
       "      <td>0.0</td>\n",
       "      <td>1.0</td>\n",
       "    </tr>\n",
       "    <tr>\n",
       "      <th>1</th>\n",
       "      <td>1.0</td>\n",
       "      <td>48.0</td>\n",
       "      <td>2.0</td>\n",
       "      <td>0.0</td>\n",
       "      <td>0.0</td>\n",
       "      <td>0.0</td>\n",
       "      <td>1.0</td>\n",
       "      <td>0.0</td>\n",
       "      <td>0.0</td>\n",
       "      <td>5951.0</td>\n",
       "      <td>...</td>\n",
       "      <td>22.0</td>\n",
       "      <td>0.0</td>\n",
       "      <td>0.0</td>\n",
       "      <td>1.0</td>\n",
       "      <td>1.0</td>\n",
       "      <td>2.0</td>\n",
       "      <td>1.0</td>\n",
       "      <td>0.0</td>\n",
       "      <td>0.0</td>\n",
       "      <td>0.0</td>\n",
       "    </tr>\n",
       "    <tr>\n",
       "      <th>2</th>\n",
       "      <td>3.0</td>\n",
       "      <td>12.0</td>\n",
       "      <td>4.0</td>\n",
       "      <td>0.0</td>\n",
       "      <td>0.0</td>\n",
       "      <td>0.0</td>\n",
       "      <td>0.0</td>\n",
       "      <td>1.0</td>\n",
       "      <td>0.0</td>\n",
       "      <td>2096.0</td>\n",
       "      <td>...</td>\n",
       "      <td>49.0</td>\n",
       "      <td>0.0</td>\n",
       "      <td>0.0</td>\n",
       "      <td>1.0</td>\n",
       "      <td>1.0</td>\n",
       "      <td>1.0</td>\n",
       "      <td>2.0</td>\n",
       "      <td>0.0</td>\n",
       "      <td>0.0</td>\n",
       "      <td>1.0</td>\n",
       "    </tr>\n",
       "    <tr>\n",
       "      <th>3</th>\n",
       "      <td>0.0</td>\n",
       "      <td>42.0</td>\n",
       "      <td>2.0</td>\n",
       "      <td>0.0</td>\n",
       "      <td>0.0</td>\n",
       "      <td>1.0</td>\n",
       "      <td>0.0</td>\n",
       "      <td>0.0</td>\n",
       "      <td>0.0</td>\n",
       "      <td>7882.0</td>\n",
       "      <td>...</td>\n",
       "      <td>45.0</td>\n",
       "      <td>0.0</td>\n",
       "      <td>0.0</td>\n",
       "      <td>0.0</td>\n",
       "      <td>1.0</td>\n",
       "      <td>2.0</td>\n",
       "      <td>2.0</td>\n",
       "      <td>0.0</td>\n",
       "      <td>0.0</td>\n",
       "      <td>1.0</td>\n",
       "    </tr>\n",
       "    <tr>\n",
       "      <th>4</th>\n",
       "      <td>0.0</td>\n",
       "      <td>24.0</td>\n",
       "      <td>3.0</td>\n",
       "      <td>1.0</td>\n",
       "      <td>0.0</td>\n",
       "      <td>0.0</td>\n",
       "      <td>0.0</td>\n",
       "      <td>0.0</td>\n",
       "      <td>0.0</td>\n",
       "      <td>4870.0</td>\n",
       "      <td>...</td>\n",
       "      <td>53.0</td>\n",
       "      <td>0.0</td>\n",
       "      <td>0.0</td>\n",
       "      <td>0.0</td>\n",
       "      <td>2.0</td>\n",
       "      <td>2.0</td>\n",
       "      <td>2.0</td>\n",
       "      <td>0.0</td>\n",
       "      <td>0.0</td>\n",
       "      <td>0.0</td>\n",
       "    </tr>\n",
       "  </tbody>\n",
       "</table>\n",
       "<p>5 rows × 31 columns</p>\n",
       "</div>"
      ],
      "text/plain": [
       "   CHK_ACCT  DURATION  HISTORY  NEW_CAR  USED_CAR  FURNITURE  RADIO/TV  \\\n",
       "0       0.0       6.0      4.0      0.0       0.0        0.0       1.0   \n",
       "1       1.0      48.0      2.0      0.0       0.0        0.0       1.0   \n",
       "2       3.0      12.0      4.0      0.0       0.0        0.0       0.0   \n",
       "3       0.0      42.0      2.0      0.0       0.0        1.0       0.0   \n",
       "4       0.0      24.0      3.0      1.0       0.0        0.0       0.0   \n",
       "\n",
       "   EDUCATION  RETRAINING  AMOUNT  ...   AGE  OTHER_INSTALL  RENT  OWN_RES  \\\n",
       "0        0.0         0.0  1169.0  ...  67.0            0.0   0.0      1.0   \n",
       "1        0.0         0.0  5951.0  ...  22.0            0.0   0.0      1.0   \n",
       "2        1.0         0.0  2096.0  ...  49.0            0.0   0.0      1.0   \n",
       "3        0.0         0.0  7882.0  ...  45.0            0.0   0.0      0.0   \n",
       "4        0.0         0.0  4870.0  ...  53.0            0.0   0.0      0.0   \n",
       "\n",
       "   NUM_CREDITS  JOB  NUM_DEPENDENTS  TELEPHONE  FOREIGN  RESPONSE  \n",
       "0          2.0  2.0             1.0        1.0      0.0       1.0  \n",
       "1          1.0  2.0             1.0        0.0      0.0       0.0  \n",
       "2          1.0  1.0             2.0        0.0      0.0       1.0  \n",
       "3          1.0  2.0             2.0        0.0      0.0       1.0  \n",
       "4          2.0  2.0             2.0        0.0      0.0       0.0  \n",
       "\n",
       "[5 rows x 31 columns]"
      ]
     },
     "execution_count": 14,
     "metadata": {},
     "output_type": "execute_result"
    }
   ],
   "source": [
    "# Prints first five rows of dataset\n",
    "df.head()"
   ]
  },
  {
   "cell_type": "code",
   "execution_count": 15,
   "metadata": {},
   "outputs": [
    {
     "data": {
      "text/plain": [
       "Index(['CHK_ACCT', 'DURATION', 'HISTORY', 'NEW_CAR', 'USED_CAR', 'FURNITURE',\n",
       "       'RADIO/TV', 'EDUCATION', 'RETRAINING', 'AMOUNT', 'SAV_ACCT',\n",
       "       'EMPLOYMENT', 'INSTALL_RATE', 'MALE_DIV', 'MALE_SINGLE',\n",
       "       'MALE_MAR_or_WID', 'CO-APPLICANT', 'GUARANTOR', 'PRESENT_RESIDENT',\n",
       "       'REAL_ESTATE', 'PROP_UNKN_NONE', 'AGE', 'OTHER_INSTALL', 'RENT',\n",
       "       'OWN_RES', 'NUM_CREDITS', 'JOB', 'NUM_DEPENDENTS', 'TELEPHONE',\n",
       "       'FOREIGN', 'RESPONSE'],\n",
       "      dtype='object')"
      ]
     },
     "execution_count": 15,
     "metadata": {},
     "output_type": "execute_result"
    }
   ],
   "source": [
    "# Prints columns name of the dataset\n",
    "df.columns"
   ]
  },
  {
   "cell_type": "code",
   "execution_count": 16,
   "metadata": {},
   "outputs": [
    {
     "data": {
      "text/plain": [
       "0.0    952\n",
       "1.0     50\n",
       "Name: MALE_DIV, dtype: int64"
      ]
     },
     "execution_count": 16,
     "metadata": {},
     "output_type": "execute_result"
    },
    {
     "data": {
      "image/png": "[encoded data removed]",
      "text/plain": [
       "<Figure size 1080x432 with 1 Axes>"
      ]
     },
     "metadata": {
      "needs_background": "light"
     },
     "output_type": "display_data"
    }
   ],
   "source": [
    "plt.figure(figsize=(15,6))\n",
    "sns.countplot(df[\"MALE_DIV\"])\n",
    "plt.xlabel(\"Applicant is male and divorced(0:No, 1:Yes)\", fontsize=15)\n",
    "plt.ylabel(\"Count\", fontsize=15)\n",
    "\n",
    "df[\"MALE_DIV\"].value_counts()"
   ]
  },
  {
   "cell_type": "markdown",
   "metadata": {},
   "source": [
    "Here we can see that very few applicant are male and divorced"
   ]
  },
  {
   "cell_type": "code",
   "execution_count": 17,
   "metadata": {},
   "outputs": [
    {
     "data": {
      "text/plain": [
       "1.0    550\n",
       "0.0    452\n",
       "Name: MALE_SINGLE, dtype: int64"
      ]
     },
     "execution_count": 17,
     "metadata": {},
     "output_type": "execute_result"
    },
    {
     "data": {
      "image/png": "[encoded data removed]",
      "text/plain": [
       "<Figure size 1080x432 with 1 Axes>"
      ]
     },
     "metadata": {
      "needs_background": "light"
     },
     "output_type": "display_data"
    }
   ],
   "source": [
    "plt.figure(figsize=(15,6))\n",
    "sns.countplot(df[\"MALE_SINGLE\"])\n",
    "plt.xlabel(\"Applicant is male and single(0:No, 1:Yes)\", fontsize=15)\n",
    "plt.ylabel(\"Count\", fontsize=15)\n",
    "\n",
    "df[\"MALE_SINGLE\"].value_counts()"
   ]
  },
  {
   "cell_type": "markdown",
   "metadata": {},
   "source": [
    "We can see that there are more number of male applicant who are single"
   ]
  },
  {
   "cell_type": "code",
   "execution_count": 18,
   "metadata": {},
   "outputs": [
    {
     "data": {
      "text/plain": [
       "0.0    910\n",
       "1.0     92\n",
       "Name: MALE_MAR_or_WID, dtype: int64"
      ]
     },
     "execution_count": 18,
     "metadata": {},
     "output_type": "execute_result"
    },
    {
     "data": {
      "image/png": "[encoded data removed]",
      "text/plain": [
       "<Figure size 1080x432 with 1 Axes>"
      ]
     },
     "metadata": {
      "needs_background": "light"
     },
     "output_type": "display_data"
    }
   ],
   "source": [
    "plt.figure(figsize=(15,6))\n",
    "sns.countplot(df[\"MALE_MAR_or_WID\"])\n",
    "plt.xlabel(\"Applicant is male and married or a widower(0:No, 1:Yes)\", fontsize=15)\n",
    "plt.ylabel(\"Count\", fontsize=15)\n",
    "\n",
    "df[\"MALE_MAR_or_WID\"].value_counts()"
   ]
  },
  {
   "cell_type": "markdown",
   "metadata": {},
   "source": [
    "We can see that thare are very few applicant who are male or a winower"
   ]
  },
  {
   "cell_type": "code",
   "execution_count": 19,
   "metadata": {},
   "outputs": [
    {
     "data": {
      "text/plain": [
       "0.0    961\n",
       "1.0     41\n",
       "Name: CO-APPLICANT, dtype: int64"
      ]
     },
     "execution_count": 19,
     "metadata": {},
     "output_type": "execute_result"
    },
    {
     "data": {
      "image/png": "[encoded data removed]",
      "text/plain": [
       "<Figure size 1080x432 with 1 Axes>"
      ]
     },
     "metadata": {
      "needs_background": "light"
     },
     "output_type": "display_data"
    }
   ],
   "source": [
    "plt.figure(figsize=(15,6))\n",
    "sns.countplot(df[\"CO-APPLICANT\"])\n",
    "plt.xlabel(\"Application has a co-applicant(0:No, 1:Yes)\", fontsize=15)\n",
    "plt.ylabel(\"Count\", fontsize=15)\n",
    "\n",
    "df[\"CO-APPLICANT\"].value_counts()"
   ]
  },
  {
   "cell_type": "markdown",
   "metadata": {},
   "source": [
    "We can see that there are very few application which has a co-appicant"
   ]
  },
  {
   "cell_type": "code",
   "execution_count": 20,
   "metadata": {},
   "outputs": [
    {
     "name": "stdout",
     "output_type": "stream",
     "text": [
      "Nature of JOB\n",
      "**************\n",
      "0.0 : unemployed/ unskilled  - non-resident\n",
      "1.0 : unskilled - resident\n",
      "2.0 : skilled employee / official\n",
      "3.0 : management/ self-employed/highly qualified employee/ officer\n"
     ]
    },
    {
     "data": {
      "text/plain": [
       "2.0    632\n",
       "1.0    200\n",
       "3.0    148\n",
       "0.0     22\n",
       "Name: JOB, dtype: int64"
      ]
     },
     "execution_count": 20,
     "metadata": {},
     "output_type": "execute_result"
    },
    {
     "data": {
      "image/png": "[encoded data removed]",
      "text/plain": [
       "<Figure size 1080x432 with 1 Axes>"
      ]
     },
     "metadata": {
      "needs_background": "light"
     },
     "output_type": "display_data"
    }
   ],
   "source": [
    "plt.figure(figsize=(15,6))\n",
    "sns.countplot(df[\"JOB\"])\n",
    "plt.xlabel(\"Nature of JOB\", fontsize=15)\n",
    "plt.ylabel(\"Count\", fontsize=15)\n",
    "\n",
    "print(\"Nature of JOB\\n**************\\n0.0 : unemployed/ unskilled  - non-resident\\n1.0 : unskilled - resident\\n2.0 : skilled employee / official\\n3.0 : management/ self-employed/highly qualified employee/ officer\")\n",
    "df[\"JOB\"].value_counts()"
   ]
  },
  {
   "cell_type": "markdown",
   "metadata": {},
   "source": [
    "We can see that there are most of the employee are skilled followed by unskilled and then followed by management and only few employee are unskilled"
   ]
  },
  {
   "cell_type": "code",
   "execution_count": 21,
   "metadata": {},
   "outputs": [
    {
     "name": "stdout",
     "output_type": "stream",
     "text": [
      "Nature of JOB\n",
      "**************\n",
      "0.0 : unemployed/ unskilled  - non-resident\n",
      "1.0 : unskilled - resident\n",
      "2.0 : skilled employee / official\n",
      "3.0 : management/ self-employed/highly qualified employee/ officer\n",
      "\n",
      "\n",
      "Credit Rating is good\n",
      "*******************************\n",
      "0.0:No\n",
      "1.0:Yes\n"
     ]
    },
    {
     "data": {
      "image/png": "[encoded data removed]",
      "text/plain": [
       "<Figure size 1080x576 with 1 Axes>"
      ]
     },
     "metadata": {
      "needs_background": "light"
     },
     "output_type": "display_data"
    }
   ],
   "source": [
    "plt.figure(figsize=(15,8))\n",
    "df.groupby([\"JOB\",\"RESPONSE\"]).size().plot(kind=\"bar\")\n",
    "plt.ylabel(\"Count\", fontsize=15)\n",
    "plt.xlabel(\"(Value1,Value2) where Value1 is Nature of JOB and Value2 is Credit Rating is good\", fontsize=15)\n",
    "print(\"Nature of JOB\\n**************\\n0.0 : unemployed/ unskilled  - non-resident\\n1.0 : unskilled - resident\\n2.0 : skilled employee / official\\n3.0 : management/ self-employed/highly qualified employee/ officer\\n\\n\\nCredit Rating is good\\n*******************************\\n0.0:No\\n1.0:Yes\")"
   ]
  },
  {
   "cell_type": "markdown",
   "metadata": {},
   "source": [
    "We can see that most of the good credit rater are from skilled employee and very few are from unskilled employee"
   ]
  },
  {
   "cell_type": "code",
   "execution_count": 22,
   "metadata": {},
   "outputs": [
    {
     "data": {
      "text/plain": [
       "0.0    598\n",
       "1.0    404\n",
       "Name: TELEPHONE, dtype: int64"
      ]
     },
     "execution_count": 22,
     "metadata": {},
     "output_type": "execute_result"
    },
    {
     "data": {
      "image/png": "[encoded data removed]",
      "text/plain": [
       "<Figure size 1080x432 with 1 Axes>"
      ]
     },
     "metadata": {
      "needs_background": "light"
     },
     "output_type": "display_data"
    }
   ],
   "source": [
    "plt.figure(figsize=(15,6))\n",
    "sns.countplot(df[\"TELEPHONE\"])\n",
    "plt.xlabel(\"Applicant has phone in his or her name(0:No, 1:Yes)\", fontsize=15)\n",
    "plt.ylabel(\"Count\", fontsize=15)\n",
    "\n",
    "df[\"TELEPHONE\"].value_counts()"
   ]
  },
  {
   "cell_type": "markdown",
   "metadata": {},
   "source": [
    "We can see that there are more number of applicant who does not have phone in his or her name"
   ]
  },
  {
   "cell_type": "code",
   "execution_count": 23,
   "metadata": {},
   "outputs": [
    {
     "data": {
      "text/plain": [
       "0.0    965\n",
       "1.0     37\n",
       "Name: FOREIGN, dtype: int64"
      ]
     },
     "execution_count": 23,
     "metadata": {},
     "output_type": "execute_result"
    },
    {
     "data": {
      "image/png": "[encoded data removed]",
      "text/plain": [
       "<Figure size 1080x432 with 1 Axes>"
      ]
     },
     "metadata": {
      "needs_background": "light"
     },
     "output_type": "display_data"
    }
   ],
   "source": [
    "plt.figure(figsize=(15,6))\n",
    "sns.countplot(df[\"FOREIGN\"])\n",
    "plt.xlabel(\"Foreign worker(0:No, 1:Yes)\", fontsize=15)\n",
    "plt.ylabel(\"Count\", fontsize=15)\n",
    "\n",
    "df[\"FOREIGN\"].value_counts()"
   ]
  },
  {
   "cell_type": "markdown",
   "metadata": {},
   "source": [
    "We can see that there are very few Foreign Worker"
   ]
  },
  {
   "cell_type": "code",
   "execution_count": 24,
   "metadata": {},
   "outputs": [
    {
     "data": {
      "text/plain": [
       "1.0    702\n",
       "0.0    300\n",
       "Name: RESPONSE, dtype: int64"
      ]
     },
     "execution_count": 24,
     "metadata": {},
     "output_type": "execute_result"
    },
    {
     "data": {
      "image/png": "[encoded data removed]",
      "text/plain": [
       "<Figure size 1080x432 with 1 Axes>"
      ]
     },
     "metadata": {
      "needs_background": "light"
     },
     "output_type": "display_data"
    }
   ],
   "source": [
    "plt.figure(figsize=(15,6))\n",
    "sns.countplot(df[\"RESPONSE\"])\n",
    "plt.xlabel(\"Credit rating is good(0:No, 1:Yes)\", fontsize=15)\n",
    "plt.ylabel(\"Count\", fontsize=15)\n",
    "\n",
    "df[\"RESPONSE\"].value_counts()"
   ]
  },
  {
   "cell_type": "markdown",
   "metadata": {},
   "source": [
    "We can see that there are more number of employee who has good credit rating"
   ]
  },
  {
   "cell_type": "markdown",
   "metadata": {},
   "source": [
    "# Creating Models"
   ]
  },
  {
   "cell_type": "code",
   "execution_count": 25,
   "metadata": {},
   "outputs": [
    {
     "name": "stdout",
     "output_type": "stream",
     "text": [
      "(801, 30)\n",
      "(801,)\n",
      "(201, 30)\n",
      "(201,)\n"
     ]
    }
   ],
   "source": [
    "# Splitting the Dataset into training and testing part\n",
    "\n",
    "# Features\n",
    "x=df.drop(\"RESPONSE\", axis=1)\n",
    "# Target\n",
    "y=df['RESPONSE']\n",
    "\n",
    "x_train, x_test, y_train, y_test = train_test_split(x, y, test_size=0.2, random_state=5)\n",
    "print(x_train.shape)\n",
    "print(y_train.shape)\n",
    "print(x_test.shape)\n",
    "print(y_test.shape)"
   ]
  },
  {
   "cell_type": "code",
   "execution_count": 26,
   "metadata": {},
   "outputs": [],
   "source": [
    "# Standardising the data\n",
    "# Before making any actual predictions, it is always a good practice to scale the features so that all of them can be uniformly evaluated\n",
    "\n",
    "scaler = StandardScaler() \n",
    "scaler.fit(x_train)\n",
    "\n",
    "x_train = scaler.transform(x_train)  \n",
    "x_test = scaler.transform(x_test)"
   ]
  },
  {
   "cell_type": "code",
   "execution_count": 27,
   "metadata": {},
   "outputs": [
    {
     "name": "stdout",
     "output_type": "stream",
     "text": [
      "Accuracy of LR is 74.13 %\n",
      "Accuracy of LDA is 72.64 %\n",
      "Accuracy of KNN is 72.14 %\n",
      "Accuracy of CART is 65.17 %\n",
      "Accuracy of NB is 69.65 %\n",
      "Accuracy of RF is 67.16 %\n",
      "Accuracy of SVM is 73.63 %\n"
     ]
    }
   ],
   "source": [
    "# prepare models\n",
    "models = []\n",
    "models.append(('LR', LogisticRegression()))\n",
    "models.append(('LDA', LinearDiscriminantAnalysis()))\n",
    "models.append(('KNN', KNeighborsClassifier()))\n",
    "models.append(('CART', DecisionTreeClassifier()))\n",
    "models.append(('NB', GaussianNB()))\n",
    "models.append(('RF', RandomForestClassifier()))\n",
    "models.append(('SVM', SVC(gamma='auto')))\n",
    "\n",
    "\n",
    "\n",
    "for name, model in models:\n",
    "    # Training the model\n",
    "    model.fit(x_train,y_train)\n",
    "\n",
    "    # Prediction\n",
    "    y_pred=model.predict(x_test)\n",
    "    \n",
    "    print(\"Accuracy of {} is {:.2f} %\" .format(name, model.score(x_test,y_test)*100))"
   ]
  },
  {
   "cell_type": "markdown",
   "metadata": {},
   "source": [
    "# Tree-based Feature Selection\n",
    "Bagged decision trees like Random Forest and Extra Trees can be used to estimate the importance of features.\n",
    "\n",
    "In the example below we construct a ExtraTreesRegressor regressor\n",
    "\n",
    "Use ExtraTreesClassifier classifier for classification problem\n",
    "\n",
    "Tree-based estimators can be used to compute feature importances, which in turn can be used to discard irrelevant features (when coupled with the sklearn.feature_selection.SelectFromModel meta-transformer)"
   ]
  },
  {
   "cell_type": "code",
   "execution_count": 28,
   "metadata": {},
   "outputs": [
    {
     "name": "stdout",
     "output_type": "stream",
     "text": [
      "[0.13535909 0.08599774 0.05134811 0.02990447 0.01650268 0.02170136\n",
      " 0.0202747  0.01502381 0.0136051  0.0611583  0.04855204 0.0561175\n",
      " 0.03710421 0.01614839 0.02336581 0.01625398 0.01825134 0.02093217\n",
      " 0.04515867 0.03084085 0.01863851 0.04827703 0.02725335 0.01083116\n",
      " 0.0175299  0.03169729 0.03794605 0.01590042 0.02263987 0.00568611]\n"
     ]
    }
   ],
   "source": [
    "# Feature Importance with Extra Trees Regressor\n",
    "from pandas import read_csv\n",
    "from sklearn.ensemble import ExtraTreesRegressor\n",
    "\n",
    "# feature extraction\n",
    "etr = ExtraTreesRegressor()\n",
    "etr.fit(x, y)\n",
    "etr_coef=etr.feature_importances_\n",
    "print(etr_coef)"
   ]
  },
  {
   "cell_type": "code",
   "execution_count": 29,
   "metadata": {},
   "outputs": [
    {
     "data": {
      "text/plain": [
       "CHK_ACCT            0.135359\n",
       "DURATION            0.085998\n",
       "HISTORY             0.051348\n",
       "NEW_CAR             0.029904\n",
       "USED_CAR            0.016503\n",
       "FURNITURE           0.021701\n",
       "RADIO/TV            0.020275\n",
       "EDUCATION           0.015024\n",
       "RETRAINING          0.013605\n",
       "AMOUNT              0.061158\n",
       "SAV_ACCT            0.048552\n",
       "EMPLOYMENT          0.056117\n",
       "INSTALL_RATE        0.037104\n",
       "MALE_DIV            0.016148\n",
       "MALE_SINGLE         0.023366\n",
       "MALE_MAR_or_WID     0.016254\n",
       "CO-APPLICANT        0.018251\n",
       "GUARANTOR           0.020932\n",
       "PRESENT_RESIDENT    0.045159\n",
       "REAL_ESTATE         0.030841\n",
       "PROP_UNKN_NONE      0.018639\n",
       "AGE                 0.048277\n",
       "OTHER_INSTALL       0.027253\n",
       "RENT                0.010831\n",
       "OWN_RES             0.017530\n",
       "NUM_CREDITS         0.031697\n",
       "JOB                 0.037946\n",
       "NUM_DEPENDENTS      0.015900\n",
       "TELEPHONE           0.022640\n",
       "FOREIGN             0.005686\n",
       "dtype: float64"
      ]
     },
     "execution_count": 29,
     "metadata": {},
     "output_type": "execute_result"
    }
   ],
   "source": [
    "etr1_coef = pd.Series(etr_coef, index = x.columns)\n",
    "etr1_coef"
   ]
  },
  {
   "cell_type": "markdown",
   "metadata": {},
   "source": [
    "You can see that we are given an importance score for each attribute where the larger score the more important the attribute."
   ]
  },
  {
   "cell_type": "code",
   "execution_count": 30,
   "metadata": {},
   "outputs": [
    {
     "data": {
      "text/plain": [
       "Text(0.5, 1.0, 'Feature importance using Extra Trees Regressor')"
      ]
     },
     "execution_count": 30,
     "metadata": {},
     "output_type": "execute_result"
    },
    {
     "data": {
      "image/png": "[encoded data removed]",
      "text/plain": [
       "<Figure size 1080x720 with 1 Axes>"
      ]
     },
     "metadata": {
      "needs_background": "light"
     },
     "output_type": "display_data"
    }
   ],
   "source": [
    "imp_coef = etr1_coef.sort_values()\n",
    "plt.figure(figsize=(15, 10))\n",
    "imp_coef.plot(kind = \"barh\")\n",
    "plt.title(\"Feature importance using Extra Trees Regressor\", fontsize=20)"
   ]
  },
  {
   "cell_type": "code",
   "execution_count": 31,
   "metadata": {},
   "outputs": [
    {
     "data": {
      "text/plain": [
       "(1002, 10)"
      ]
     },
     "execution_count": 31,
     "metadata": {},
     "output_type": "execute_result"
    }
   ],
   "source": [
    "from sklearn.feature_selection import SelectFromModel\n",
    "\n",
    "sfm = SelectFromModel(etr, prefit=True)\n",
    "x_n = sfm.transform(x)\n",
    "x_n.shape"
   ]
  },
  {
   "cell_type": "code",
   "execution_count": 32,
   "metadata": {},
   "outputs": [
    {
     "name": "stdout",
     "output_type": "stream",
     "text": [
      "(801, 10)\n",
      "(801,)\n",
      "(201, 10)\n",
      "(201,)\n"
     ]
    }
   ],
   "source": [
    "#Spliting the dataset into a training set and a testing set\n",
    "x_train,x_test,y_train,y_test=train_test_split(x_n,y,test_size=0.2,random_state=5)\n",
    "print(x_train.shape)\n",
    "print(y_train.shape)\n",
    "print(x_test.shape)\n",
    "print(y_test.shape)\n",
    "\n",
    "# Since the range of values of raw data varies widely, in some machine learning algorithms, objective functions will not work properly without normalization. \n",
    "scaler = StandardScaler()  \n",
    "scaler.fit(x_train)\n",
    "\n",
    "x_train = scaler.transform(x_train)  \n",
    "x_test = scaler.transform(x_test)"
   ]
  },
  {
   "cell_type": "markdown",
   "metadata": {},
   "source": [
    "# Models with the selected features"
   ]
  },
  {
   "cell_type": "code",
   "execution_count": 33,
   "metadata": {},
   "outputs": [
    {
     "name": "stdout",
     "output_type": "stream",
     "text": [
      "Accuracy of LR is 75.62 %\n",
      "Accuracy of LDA is 74.63 %\n",
      "Accuracy of KNN is 72.64 %\n",
      "Accuracy of CART is 59.20 %\n",
      "Accuracy of NB is 76.62 %\n",
      "Accuracy of RF is 67.16 %\n",
      "Accuracy of SVM is 74.63 %\n"
     ]
    }
   ],
   "source": [
    "# prepare models\n",
    "models = []\n",
    "models.append(('LR', LogisticRegression()))\n",
    "models.append(('LDA', LinearDiscriminantAnalysis()))\n",
    "models.append(('KNN', KNeighborsClassifier()))\n",
    "models.append(('CART', DecisionTreeClassifier()))\n",
    "models.append(('NB', GaussianNB()))\n",
    "models.append(('RF', RandomForestClassifier()))\n",
    "models.append(('SVM', SVC(gamma='auto')))\n",
    "\n",
    "\n",
    "for name, model in models:\n",
    "    # Training the model\n",
    "    model.fit(x_train,y_train)\n",
    "\n",
    "    # Prediction\n",
    "    y_pred=model.predict(x_test)\n",
    "    \n",
    "    print(\"Accuracy of {} is {:.2f} %\" .format(name, model.score(x_test,y_test)*100))"
   ]
  },
  {
   "cell_type": "code",
   "execution_count": 34,
   "metadata": {},
   "outputs": [
    {
     "name": "stdout",
     "output_type": "stream",
     "text": [
      "\n"
     ]
    }
   ],
   "source": [
    "'''\n",
    "Model        Accuracy Before Feature Selection          Accuracy After Feature Selection\n",
    "*******************************************************************************************\n",
    " LR                     74.13 %                                   75.62 %\n",
    " LDA                    72.64 %                                   74.63 %\n",
    " KNN                    72.14 %                                   72.64 %\n",
    " CART                   65.17 %                                   59.20 %\n",
    " NB                     69.65 %                                   76.62 %\n",
    " RF                     67.16 %                                   67.16 %\n",
    " SVM                    73.63 %                                   74.63 %\n",
    " \n",
    " Accuracy of LR, LDA, KNN, NB, SVM increases after feature selection whereas Accuracy of CART decreases anf for RF it remains same.\n",
    " \n",
    " After feature selection NB gives high accuracy so NB is good algorithm for this dataset.\n",
    " \n",
    "LR: Logistic Regression\n",
    "LDA: Linear Discriminant Analysis\n",
    "KNN: K Nearest Neighbors Classifier\n",
    "CART: Decision Tree Classifier\n",
    "NB: Naive Bayes\n",
    "RF: Random Forest Classifier\n",
    "SVM: Support Vector Machine\n",
    "'''\n",
    "print()"
   ]
  },
  {
   "cell_type": "code",
   "execution_count": null,
   "metadata": {},
   "outputs": [],
   "source": []
  }
 ],
 "metadata": {
  "kernelspec": {
   "display_name": "Python 3",
   "language": "python",
   "name": "python3"
  },
  "language_info": {
   "codemirror_mode": {
    "name": "ipython",
    "version": 3
   },
   "file_extension": ".py",
   "mimetype": "text/x-python",
   "name": "python",
   "nbconvert_exporter": "python",
   "pygments_lexer": "ipython3",
   "version": "3.6.8"
  }
 },
 "nbformat": 4,
 "nbformat_minor": 2
}
