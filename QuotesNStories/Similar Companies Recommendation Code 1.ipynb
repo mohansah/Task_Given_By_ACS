{
 "cells": [
  {
   "cell_type": "markdown",
   "metadata": {},
   "source": [
    "# Code 1: When input is only the Company Website\n",
    "    \n",
    "In this case the description of the input company website must be present in the dataset"
   ]
  },
  {
   "cell_type": "code",
   "execution_count": 1,
   "metadata": {},
   "outputs": [],
   "source": [
    "import pandas as pd\n",
    "from nltk.tokenize import word_tokenize\n",
    "import string\n",
    "from nltk.corpus import stopwords\n",
    "from textblob import Word\n",
    "\n",
    "# Function to clean the description of companies\n",
    "def description_cleaning(df):\n",
    "    stop = stopwords.words('english')\n",
    "    \n",
    "    # Removing punctuations and all digits from description\n",
    "    filterString = string.punctuation + '“”|”' + string.digits\n",
    "    df['Filter Description'] = df['Description'].apply(lambda x: x.translate(str.maketrans(filterString,' '*len(filterString),'')))\n",
    "    \n",
    "    # Removing all single characters\n",
    "    df['Filter Description'] = df['Filter Description'].replace('\\s+[a-zA-Z]\\s+', ' ', regex=True)\n",
    "\n",
    "    # Removing single characters in beginning\n",
    "    df['Filter Description'] = df['Filter Description'].replace('\\^[a-zA-Z]\\s+', ' ', regex=True)\n",
    "\n",
    "    # Removing multiple spaces\n",
    "    df['Filter Description'] = df['Filter Description'].replace('\\s+', ' ', regex=True)\n",
    "\n",
    "    # Converting text to lowercase\n",
    "    df['Filter Description'] = df['Filter Description'].apply(lambda x: x.lower())\n",
    "\n",
    "    # Removing stop words from description\n",
    "    df['Filter Description'] = df['Filter Description'].str.split(' ').apply(lambda x: ' '.join(k for k in x if k not in stop))\n",
    "\n",
    "    # Lemmatizing all words in the description\n",
    "    df['Filter Description'] = df['Filter Description'].apply(lambda x: \"\".join([Word(word).lemmatize() for word in x]))\n",
    "    \n",
    "    # Drop the unfiltered description column\n",
    "    df.drop(\"Description\", axis = 1, inplace = True)\n",
    "    \n",
    "    return df\n",
    "\n",
    "# Function to find similarity between two description using cosine similarity\n",
    "def find_similarity(X, Y):\n",
    "    # tokenization \n",
    "    X_list = word_tokenize(X)  \n",
    "    Y_list = word_tokenize(Y)\n",
    "\n",
    "    l1 =[];l2 =[] \n",
    "\n",
    "    # remove stop words from string \n",
    "    X_set = set(X_list)  \n",
    "    Y_set = set(Y_list)\n",
    "\n",
    "    # form a set containing keywords of both strings  \n",
    "    rvector = X_set.union(Y_set)  \n",
    "    for w in rvector: \n",
    "        if w in X_set: l1.append(1) # create a vector \n",
    "        else: l1.append(0) \n",
    "        if w in Y_set: l2.append(1) \n",
    "        else: l2.append(0) \n",
    "    c = 0\n",
    "\n",
    "    # cosine formula  \n",
    "    for i in range(len(rvector)): \n",
    "            c+= l1[i]*l2[i]\n",
    "\n",
    "    cosine = c / float((sum(l1)*sum(l2))**0.5)\n",
    "    \n",
    "    return cosine\n",
    "\n",
    "# Function to find similar company to the input company website\n",
    "def find_similar_company(website):\n",
    "    \n",
    "    # Reading the csv file containg description and website of the company\n",
    "    data = pd.read_csv(\"SimilarCompaniesRecommendation.csv\")\n",
    "\n",
    "    # Function call to clean the description\n",
    "    data = description_cleaning(data)\n",
    "    \n",
    "    try:\n",
    "        # Finding the description of the company for input website\n",
    "        des1 = data[\"Filter Description\"][data[\"Website\"].str.lower() == website.lower()].values[0]\n",
    "    except:\n",
    "        return \"Error: Input Company website has no description in the dataset\"\n",
    "    \n",
    "    # List to store similarity values between descriptions\n",
    "    Similarity = []\n",
    "    \n",
    "    # Loop for finding similarity values between the description\n",
    "    for i in range(data.shape[0]):\n",
    "        des2 = data[\"Filter Description\"][i]\n",
    "        # Function call to to find similarity between two description using cosine similarity\n",
    "        similarity_between_des1_and_des2 = find_similarity(des1, des2)\n",
    "        Similarity.append([data[\"Website\"][i], similarity_between_des1_and_des2])\n",
    "        \n",
    "    # Create the pandas DataFrame which contains the website and similarity value with respect to input website\n",
    "    df = pd.DataFrame(Similarity, columns = ['Website', 'Similarity Value'])\n",
    "    \n",
    "    # Sorting the company based on similarity value of description\n",
    "    df.sort_values(by=['Similarity Value'], ascending = False, inplace = True)\n",
    "    \n",
    "    # Eliminate whose similarity value is one because it is the same company\n",
    "    df = df[df[\"Similarity Value\"]!=1]\n",
    "    \n",
    "    # Giving rank to the company\n",
    "    Rank = [i+1 for i in range(df.shape[0])]\n",
    "    df[\"Rank\"] = Rank\n",
    "    \n",
    "    # Dropping the Similarty value column\n",
    "    df.drop(\"Similarity Value\", axis = 1, inplace = True)\n",
    "        \n",
    "    return df.reset_index(drop=True)"
   ]
  },
  {
   "cell_type": "markdown",
   "metadata": {},
   "source": [
    "# Results\n",
    "\n",
    "Lower the rank higher the similarity means Rank 1 is most similar to the input company and as rank increases similarity decreases"
   ]
  },
  {
   "cell_type": "code",
   "execution_count": 2,
   "metadata": {},
   "outputs": [
    {
     "name": "stdout",
     "output_type": "stream",
     "text": [
      "Similar Company Recommendatio for Company: Gitlab.com are listed below\n",
      "\n",
      "           Website  Rank\n",
      "0    Cloudbees.com     1\n",
      "1  Squarespace.com     2\n",
      "2          Wix.com     3\n"
     ]
    }
   ],
   "source": [
    "CompanyWebsite = \"Gitlab.com\"  # input parameter\n",
    "print(\"Similar Company Recommendatio for Company:\",CompanyWebsite,\"are listed below\\n\")\n",
    "print(find_similar_company(CompanyWebsite)) # Function call to get similar company"
   ]
  },
  {
   "cell_type": "code",
   "execution_count": 3,
   "metadata": {},
   "outputs": [
    {
     "name": "stdout",
     "output_type": "stream",
     "text": [
      "Similar Company for Company: Cloudbees.com are listed below\n",
      "\n",
      "           Website  Rank\n",
      "0       Gitlab.com     1\n",
      "1  Squarespace.com     2\n",
      "2          Wix.com     3\n"
     ]
    }
   ],
   "source": [
    "CompanyWebsite = \"Cloudbees.com\"  # input parameter\n",
    "print(\"Similar Company for Company:\",CompanyWebsite,\"are listed below\\n\")\n",
    "print(find_similar_company(CompanyWebsite))  # Function call to get similar company"
   ]
  },
  {
   "cell_type": "code",
   "execution_count": 4,
   "metadata": {},
   "outputs": [
    {
     "name": "stdout",
     "output_type": "stream",
     "text": [
      "Similar Company for Company: Squarespace.com are listed below\n",
      "\n",
      "         Website  Rank\n",
      "0        Wix.com     1\n",
      "1     Gitlab.com     2\n",
      "2  Cloudbees.com     3\n"
     ]
    }
   ],
   "source": [
    "CompanyWebsite = \"Squarespace.com\"  # input parameter\n",
    "print(\"Similar Company for Company:\",CompanyWebsite,\"are listed below\\n\")\n",
    "print(find_similar_company(CompanyWebsite))  # Function call to get similar company"
   ]
  },
  {
   "cell_type": "code",
   "execution_count": 5,
   "metadata": {},
   "outputs": [
    {
     "name": "stdout",
     "output_type": "stream",
     "text": [
      "Similar Company for Company: Wix.com are listed below\n",
      "\n",
      "           Website  Rank\n",
      "0  Squarespace.com     1\n",
      "1       Gitlab.com     2\n",
      "2    Cloudbees.com     3\n"
     ]
    }
   ],
   "source": [
    "CompanyWebsite = \"Wix.com\"  # input parameter\n",
    "print(\"Similar Company for Company:\",CompanyWebsite,\"are listed below\\n\")\n",
    "print(find_similar_company(CompanyWebsite))  # Function call to get similar company"
   ]
  },
  {
   "cell_type": "markdown",
   "metadata": {},
   "source": [
    "Suppose I will choose a company website whose description is not in the dataset then it will print an error sms"
   ]
  },
  {
   "cell_type": "code",
   "execution_count": 6,
   "metadata": {},
   "outputs": [
    {
     "name": "stdout",
     "output_type": "stream",
     "text": [
      "Similar Company for Company: Google.com are listed below\n",
      "\n",
      "Error: Input Company website has no description in the dataset\n"
     ]
    }
   ],
   "source": [
    "CompanyWebsite = \"Google.com\"  # input parameter which is not in dataset\n",
    "print(\"Similar Company for Company:\",CompanyWebsite,\"are listed below\\n\")\n",
    "print(find_similar_company(CompanyWebsite))  # Function call to get similar company"
   ]
  },
  {
   "cell_type": "code",
   "execution_count": null,
   "metadata": {},
   "outputs": [],
   "source": []
  }
 ],
 "metadata": {
  "kernelspec": {
   "display_name": "Python 3",
   "language": "python",
   "name": "python3"
  },
  "language_info": {
   "codemirror_mode": {
    "name": "ipython",
    "version": 3
   },
   "file_extension": ".py",
   "mimetype": "text/x-python",
   "name": "python",
   "nbconvert_exporter": "python",
   "pygments_lexer": "ipython3",
   "version": "3.6.8"
  }
 },
 "nbformat": 4,
 "nbformat_minor": 2
}
