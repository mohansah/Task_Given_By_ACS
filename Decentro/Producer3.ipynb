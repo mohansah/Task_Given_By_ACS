{
 "cells": [
  {
   "cell_type": "code",
   "execution_count": null,
   "id": "3dae19c5",
   "metadata": {},
   "outputs": [],
   "source": [
    "import time\n",
    "import csv\n",
    "import random\n",
    "from confluent_kafka import Producer\n",
    "import pandas as pd\n",
    "\n",
    "# Kafka broker address\n",
    "bootstrap_servers = 'localhost:9092'\n",
    "\n",
    "# Kafka topic to produce to\n",
    "topic = 'calendar_topic'  # Replace with your actual Kafka topic name\n",
    "\n",
    "# Create Kafka Producer\n",
    "producer = Producer({'bootstrap.servers': bootstrap_servers})\n",
    "\n",
    "calendar_data = pd.read_csv('archive/calendar.csv').fillna('').to_dict('records')\n",
    "\n",
    "# Function to generate sample data\n",
    "def produce_data():\n",
    "    for data in calendar_data:\n",
    "        # Print data\n",
    "        print(\"Data to be produced:\", data)\n",
    "        \n",
    "        # Produce data to Kafka topic\n",
    "        producer.produce(topic, str(data).encode('utf-8'))\n",
    "\n",
    "        # Wait for a specified interval (e.g., 1 second)\n",
    "        time.sleep(random.uniform(0, 5))\n",
    "\n",
    "# Start producing data\n",
    "produce_data()\n",
    "\n",
    "# Close Kafka Producer\n",
    "producer.close()"
   ]
  },
  {
   "cell_type": "code",
   "execution_count": null,
   "id": "9045db21",
   "metadata": {},
   "outputs": [],
   "source": []
  }
 ],
 "metadata": {
  "kernelspec": {
   "display_name": "Python 3 (ipykernel)",
   "language": "python",
   "name": "python3"
  },
  "language_info": {
   "codemirror_mode": {
    "name": "ipython",
    "version": 3
   },
   "file_extension": ".py",
   "mimetype": "text/x-python",
   "name": "python",
   "nbconvert_exporter": "python",
   "pygments_lexer": "ipython3",
   "version": "3.9.5"
  }
 },
 "nbformat": 4,
 "nbformat_minor": 5
}
