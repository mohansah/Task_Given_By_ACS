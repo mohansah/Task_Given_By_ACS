{
 "cells": [
  {
   "cell_type": "code",
   "execution_count": 1,
   "metadata": {},
   "outputs": [],
   "source": [
    "import cv2\n",
    "\n",
    "def algorithm(image):\n",
    "    # Reading the image as color image\n",
    "    Color_Image = cv2.imread(image, 1)\n",
    "    \n",
    "    r, c, _ = Color_Image.shape # Computes orginal dimension\n",
    "    Color_Image = cv2.resize(Color_Image,(500, 500)) # Resizing the image to 500 x 500\n",
    "    \n",
    "    # Blurring of Color image to remove noise\n",
    "    Blurred_Image = cv2.medianBlur(Color_Image, 5)\n",
    "    \n",
    "    # Converting the blurred image in to gray scale mode\n",
    "    Gray_Image = cv2.cvtColor(Blurred_Image, cv2.COLOR_BGR2GRAY)\n",
    "    \n",
    "    # Otsu's thresholding\n",
    "    ret, Thresholded_Image = cv2.threshold(Gray_Image, 0, 255, cv2.THRESH_BINARY_INV + cv2.THRESH_OTSU)\n",
    "    \n",
    "    # To find contours of thresholded image\n",
    "    contours, hierarchy = cv2.findContours(Thresholded_Image, cv2.RETR_TREE, cv2.CHAIN_APPROX_SIMPLE)\n",
    "    \n",
    "    centers = [] # List for collecting centers of coins\n",
    "    for i in range(len(contours)):\n",
    "        cnt = contours[i]\n",
    "        M = cv2.moments(cnt) # Calculates moments\n",
    "        area = cv2.contourArea(cnt) # Calculates contour area\n",
    "        if(M[\"m00\"]!=0 and area>1050):  # Checks that M[\"m00\"]!=0 and area of contour is greater than 1050(threshold value)\n",
    "            cX = int(M[\"m10\"] / M[\"m00\"]) # Calculates x cordinate of center\n",
    "            cY = int(M[\"m01\"] / M[\"m00\"]) # Calculates y cordinate of center\n",
    "            centers.append([cX, cY]) # append the center to the list\n",
    "\n",
    "            \n",
    "    for i in range(len(centers)):\n",
    "        for j in range(i+1, len(centers)):\n",
    "            if(centers[i][0] == centers[j][0]): # Checking the cordinates whose x cordinates are same so that it will form vertical line\n",
    "                cv2.line(Color_Image, (centers[i][0], centers[i][1]), (centers[j][0], centers[j][1]), (0, 0, 255), 3)\n",
    "    \n",
    "\n",
    "    \n",
    "    \n",
    "    Color_Image = cv2.resize(Color_Image,(c, r)) # Resizing the image to original dimension\n",
    "    \n",
    "    # This will save the output image in jpg format in the working directory\n",
    "    cv2.imwrite('Output.jpg', Color_Image)\n",
    "\n",
    "    \n",
    "    \n",
    "def main(Input_Image):\n",
    "    algorithm(Input_Image)\n",
    "\n",
    "if __name__== \"__main__\" :\n",
    "    Input_Image = \"coin.jpg\" # Input Image\n",
    "    main(Input_Image)"
   ]
  },
  {
   "cell_type": "code",
   "execution_count": null,
   "metadata": {},
   "outputs": [],
   "source": []
  }
 ],
 "metadata": {
  "kernelspec": {
   "display_name": "Python 3",
   "language": "python",
   "name": "python3"
  },
  "language_info": {
   "codemirror_mode": {
    "name": "ipython",
    "version": 3
   },
   "file_extension": ".py",
   "mimetype": "text/x-python",
   "name": "python",
   "nbconvert_exporter": "python",
   "pygments_lexer": "ipython3",
   "version": "3.6.8"
  }
 },
 "nbformat": 4,
 "nbformat_minor": 2
}
