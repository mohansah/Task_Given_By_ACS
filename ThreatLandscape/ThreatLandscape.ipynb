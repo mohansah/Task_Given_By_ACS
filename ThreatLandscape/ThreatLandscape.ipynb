{
 "cells": [
  {
   "cell_type": "markdown",
   "metadata": {},
   "source": [
    "# Text Clustering\n",
    "Text clustering is the task of grouping a set of unlabeled texts in such a way that texts in the same group (called a cluster) are more similar to each other than to those in other clusters."
   ]
  },
  {
   "cell_type": "markdown",
   "metadata": {},
   "source": [
    "### Importing necessary package"
   ]
  },
  {
   "cell_type": "code",
   "execution_count": 1,
   "metadata": {},
   "outputs": [],
   "source": [
    "from sklearn.metrics import silhouette_score\n",
    "from sklearn.feature_extraction.text import TfidfVectorizer\n",
    "from sklearn.cluster import KMeans\n",
    "import pandas as pd\n",
    "import string\n",
    "from nltk.corpus import stopwords\n",
    "from textblob import Word"
   ]
  },
  {
   "cell_type": "markdown",
   "metadata": {},
   "source": [
    "### Reading the input file (text_to_cluster.txt)\n",
    "\n",
    "By running the below shell it will ask for path to your input text file"
   ]
  },
  {
   "cell_type": "code",
   "execution_count": 2,
   "metadata": {},
   "outputs": [
    {
     "name": "stdout",
     "output_type": "stream",
     "text": [
      "Enter the path to the input text file: C:/Users/MOHAN KUMAR SAH/Desktop/AssignmentByBikram/text_to_cluster.txt\n",
      "Reads Successfully\n"
     ]
    }
   ],
   "source": [
    "try:\n",
    "    path = input(\"Enter the path to the input text file: \")  # Asks the user to input path\n",
    "    file = open(path, \"r\", encoding=\"utf8\")  # Open the file in read mode\n",
    "    lines = file.read().split('\\n')  # Split the contents on the basis of \"\\n\"\n",
    "    file.close()  # close the file\n",
    "    print(\"Reads Successfully\")\n",
    "except:\n",
    "    print(\"Unable to read input file\")"
   ]
  },
  {
   "cell_type": "markdown",
   "metadata": {},
   "source": [
    "### Data Cleaning"
   ]
  },
  {
   "cell_type": "code",
   "execution_count": 3,
   "metadata": {},
   "outputs": [
    {
     "data": {
      "text/html": [
       "<div>\n",
       "<style scoped>\n",
       "    .dataframe tbody tr th:only-of-type {\n",
       "        vertical-align: middle;\n",
       "    }\n",
       "\n",
       "    .dataframe tbody tr th {\n",
       "        vertical-align: top;\n",
       "    }\n",
       "\n",
       "    .dataframe thead th {\n",
       "        text-align: right;\n",
       "    }\n",
       "</style>\n",
       "<table border=\"1\" class=\"dataframe\">\n",
       "  <thead>\n",
       "    <tr style=\"text-align: right;\">\n",
       "      <th></th>\n",
       "      <th>Lines</th>\n",
       "    </tr>\n",
       "  </thead>\n",
       "  <tbody>\n",
       "    <tr>\n",
       "      <th>0</th>\n",
       "      <td>Ransomware attack at Mexico's Pemex halts work...</td>\n",
       "    </tr>\n",
       "    <tr>\n",
       "      <th>1</th>\n",
       "      <td>#city | #ransomware | Ransomware Attack At Mex...</td>\n",
       "    </tr>\n",
       "    <tr>\n",
       "      <th>2</th>\n",
       "      <td>Mexico's Pemex Oil Suffers Ransomware Attack, ...</td>\n",
       "    </tr>\n",
       "    <tr>\n",
       "      <th>3</th>\n",
       "      <td>A Mexican oil company was hit by ransomware at...</td>\n",
       "    </tr>\n",
       "    <tr>\n",
       "      <th>4</th>\n",
       "      <td>Pemex Struck by Ransomware Attack</td>\n",
       "    </tr>\n",
       "  </tbody>\n",
       "</table>\n",
       "</div>"
      ],
      "text/plain": [
       "                                               Lines\n",
       "0  Ransomware attack at Mexico's Pemex halts work...\n",
       "1  #city | #ransomware | Ransomware Attack At Mex...\n",
       "2  Mexico's Pemex Oil Suffers Ransomware Attack, ...\n",
       "3  A Mexican oil company was hit by ransomware at...\n",
       "4                  Pemex Struck by Ransomware Attack"
      ]
     },
     "execution_count": 3,
     "metadata": {},
     "output_type": "execute_result"
    }
   ],
   "source": [
    "# Storing into data frame so that we can easily apply operations on it\n",
    "df = pd.DataFrame(lines, columns = ['Lines'])\n",
    "df.head()"
   ]
  },
  {
   "cell_type": "code",
   "execution_count": 4,
   "metadata": {},
   "outputs": [
    {
     "data": {
      "text/plain": [
       "(332, 1)"
      ]
     },
     "execution_count": 4,
     "metadata": {},
     "output_type": "execute_result"
    }
   ],
   "source": [
    "# Removing duplicates lines\n",
    "df.drop_duplicates(inplace = True)\n",
    "# Printing shape i.e., (number of rows, number of coumns)\n",
    "df.shape"
   ]
  },
  {
   "cell_type": "code",
   "execution_count": 5,
   "metadata": {},
   "outputs": [
    {
     "data": {
      "text/html": [
       "<div>\n",
       "<style scoped>\n",
       "    .dataframe tbody tr th:only-of-type {\n",
       "        vertical-align: middle;\n",
       "    }\n",
       "\n",
       "    .dataframe tbody tr th {\n",
       "        vertical-align: top;\n",
       "    }\n",
       "\n",
       "    .dataframe thead th {\n",
       "        text-align: right;\n",
       "    }\n",
       "</style>\n",
       "<table border=\"1\" class=\"dataframe\">\n",
       "  <thead>\n",
       "    <tr style=\"text-align: right;\">\n",
       "      <th></th>\n",
       "      <th>Lines</th>\n",
       "      <th>UpdatedLines</th>\n",
       "    </tr>\n",
       "  </thead>\n",
       "  <tbody>\n",
       "    <tr>\n",
       "      <th>0</th>\n",
       "      <td>Ransomware attack at Mexico's Pemex halts work...</td>\n",
       "      <td>ransomware attack mexico pemex halts work thre...</td>\n",
       "    </tr>\n",
       "    <tr>\n",
       "      <th>1</th>\n",
       "      <td>#city | #ransomware | Ransomware Attack At Mex...</td>\n",
       "      <td>city ransomware ransomware attack mexico’s pe...</td>\n",
       "    </tr>\n",
       "    <tr>\n",
       "      <th>2</th>\n",
       "      <td>Mexico's Pemex Oil Suffers Ransomware Attack, ...</td>\n",
       "      <td>mexico pemex oil suffers ransomware attack mil...</td>\n",
       "    </tr>\n",
       "    <tr>\n",
       "      <th>3</th>\n",
       "      <td>A Mexican oil company was hit by ransomware at...</td>\n",
       "      <td>mexican oil company hit ransomware attack</td>\n",
       "    </tr>\n",
       "    <tr>\n",
       "      <th>4</th>\n",
       "      <td>Pemex Struck by Ransomware Attack</td>\n",
       "      <td>pemex struck ransomware attack</td>\n",
       "    </tr>\n",
       "  </tbody>\n",
       "</table>\n",
       "</div>"
      ],
      "text/plain": [
       "                                               Lines  \\\n",
       "0  Ransomware attack at Mexico's Pemex halts work...   \n",
       "1  #city | #ransomware | Ransomware Attack At Mex...   \n",
       "2  Mexico's Pemex Oil Suffers Ransomware Attack, ...   \n",
       "3  A Mexican oil company was hit by ransomware at...   \n",
       "4                  Pemex Struck by Ransomware Attack   \n",
       "\n",
       "                                        UpdatedLines  \n",
       "0  ransomware attack mexico pemex halts work thre...  \n",
       "1   city ransomware ransomware attack mexico’s pe...  \n",
       "2  mexico pemex oil suffers ransomware attack mil...  \n",
       "3          mexican oil company hit ransomware attack  \n",
       "4                     pemex struck ransomware attack  "
      ]
     },
     "execution_count": 5,
     "metadata": {},
     "output_type": "execute_result"
    }
   ],
   "source": [
    "# Filtering out unncessary information from given text\n",
    "\n",
    "stop = stopwords.words('english')\n",
    "\n",
    "# Removing punctuations and all digits from text\n",
    "filterString = string.punctuation + '“”|”' + string.digits\n",
    "df['UpdatedLines'] = df['Lines'].apply(lambda x: x.translate(str.maketrans(filterString,' '*len(filterString),'')))\n",
    "\n",
    "# Removing all single characters\n",
    "df['UpdatedLines'] = df['UpdatedLines'].replace('\\s+[a-zA-Z]\\s+', ' ', regex=True)\n",
    "\n",
    "# Removing single characters in beginning\n",
    "df['UpdatedLines'] = df['UpdatedLines'].replace('\\^[a-zA-Z]\\s+', ' ', regex=True)\n",
    "\n",
    "# Removing multiple spaces\n",
    "df['UpdatedLines'] = df['UpdatedLines'].replace('\\s+', ' ', regex=True)\n",
    "\n",
    "# Converting text to lowercase\n",
    "df['UpdatedLines'] = df['UpdatedLines'].apply(lambda x: x.lower())\n",
    "\n",
    "# Removing stop words from text\n",
    "df['UpdatedLines'] = df['UpdatedLines'].str.split(' ').apply(lambda x: ' '.join(k for k in x if k not in stop))\n",
    "\n",
    "# Lemmatizing all words in the text\n",
    "df['UpdatedLines'] = df['UpdatedLines'].apply(lambda x: \"\".join([Word(word).lemmatize() for word in x]))\n",
    "\n",
    "df.head()"
   ]
  },
  {
   "cell_type": "markdown",
   "metadata": {},
   "source": [
    "### Conversion of sentences into vectors\n",
    "\n",
    "I used TfidfVectorizer. So what is TF-IDF ?\n",
    "\n",
    "Term Frequency-Inverse Document Frequency (TF-IDF) is a numerical statistic that demonstrates how important a word is to a corpus.\n",
    "1. Term Frequency is just ratio number of current word to the number of all words in document/string/etc.\n",
    "2. Inverse Document Frequency is a log of the ratio of the number of all documents/string in the corpus to the number of documents.\n",
    "3. tf-idf is the product Term Frequency to Inverse Document Frequency.\n",
    "\n",
    "##### Reason for choosing TF-IDF\n",
    "TF-IDF is a well known method to evaluate how important is a word in a document. tf-idf are also a very interesting way to convert the textual representation of information into a Vector Space Model (VSM).\n",
    "\n",
    "I have to create vectorizer using TfidfVectorizer class to fit and transform the UpdatedLines cloumn which I created in the data frame:"
   ]
  },
  {
   "cell_type": "code",
   "execution_count": 6,
   "metadata": {},
   "outputs": [],
   "source": [
    "vectorizer = TfidfVectorizer()\n",
    "X = vectorizer.fit_transform(df[\"UpdatedLines\"])  # Learn and transform Statements"
   ]
  },
  {
   "cell_type": "markdown",
   "metadata": {},
   "source": [
    "### Procedure for choosing optimum number of clusters\n",
    "I used Silhouette analysis to select optimum number of clusters\n",
    "\n",
    "Silhouette analysis refers to a method of interpretation and validation of consistency within clusters of data. The silhouette value is a measure of how similar an object is to its own cluster (cohesion) compared to other clusters (separation). It can be used to study the separation distance between the resulting clusters.\n",
    "\n",
    "Calculation of Silhouette Value –\n",
    "If the Silhouette index value is high, the object is well-matched to its own cluster and poorly matched to neighbouring clusters. The Silhouette Coefficient is defined as –\n",
    "\n",
    "S(i) = ( b(i) – a(i) ) / ( max { ( a(i), b(i) ) }\n",
    "\n",
    "Where,\n",
    "\n",
    "       a(i) is the average dissimilarity of ith object to all other objects in the same cluster\n",
    "       b(i) is the average dissimilarity of ith object with all objects in the closest cluster.\n",
    "Range of Silhouette Value: S(i) will lie between [-1, 1]\n",
    "1. If silhouette value is close to 1, sample is well-clustered and already assigned to a very appropriate cluster.\n",
    "2. If silhouette value is about to 0, sample could be assign to another cluster closest to it and the sample lies equally far away from both the clusters. That means it indicates overlapping clusters\n",
    "3. If silhouette value is close to –1, sample is misclassified and is merely placed somewhere in between the clusters.\n",
    "\n",
    "##### Reason for choosing Silhouette analysis\n",
    "It is very easy to apply and calculate Silhouette score corresponding to a particular number of clusters. So after getting a list of Silhouette scores we can simply choose the cluster number having highest Silhouette score.\n",
    "\n",
    "##### Reason for choosing K-Means\n",
    "K-means is one of the simplest and fastest unsupervised learning algorithms that solve the well known clustering problem. The procedure follows a simple and easy way to classify a given data set through a certain number of clusters."
   ]
  },
  {
   "cell_type": "code",
   "execution_count": 7,
   "metadata": {},
   "outputs": [
    {
     "name": "stderr",
     "output_type": "stream",
     "text": [
      "C:\\ProgramData\\Anaconda3\\lib\\site-packages\\sklearn\\cluster\\k_means_.py:971: ConvergenceWarning: Number of distinct clusters (330) found smaller than n_clusters (331). Possibly due to duplicate points in X.\n",
      "  return_n_iter=True)\n"
     ]
    }
   ],
   "source": [
    "NumberOfClusters = []  # list to store number of clusters\n",
    "SilhouetteCoefficient = []  # list to store Silhouette score\n",
    "\n",
    "for n_cluster in range(2, df.shape[0]):\n",
    "    kmeans = KMeans(n_clusters = n_cluster).fit(X)\n",
    "    label = kmeans.labels_ # Stores labels corresponding to a particular cluster number\n",
    "    sil_coeff = silhouette_score(X, label, metric='euclidean') # Calculates Silhouette score\n",
    "    \n",
    "    NumberOfClusters.append(n_cluster)\n",
    "    SilhouetteCoefficient.append(sil_coeff)"
   ]
  },
  {
   "cell_type": "code",
   "execution_count": 8,
   "metadata": {},
   "outputs": [
    {
     "data": {
      "text/html": [
       "<div>\n",
       "<style scoped>\n",
       "    .dataframe tbody tr th:only-of-type {\n",
       "        vertical-align: middle;\n",
       "    }\n",
       "\n",
       "    .dataframe tbody tr th {\n",
       "        vertical-align: top;\n",
       "    }\n",
       "\n",
       "    .dataframe thead th {\n",
       "        text-align: right;\n",
       "    }\n",
       "</style>\n",
       "<table border=\"1\" class=\"dataframe\">\n",
       "  <thead>\n",
       "    <tr style=\"text-align: right;\">\n",
       "      <th></th>\n",
       "      <th>Number Of Clusters</th>\n",
       "      <th>Silhouette Coefficient</th>\n",
       "    </tr>\n",
       "  </thead>\n",
       "  <tbody>\n",
       "    <tr>\n",
       "      <th>0</th>\n",
       "      <td>2</td>\n",
       "      <td>0.022271</td>\n",
       "    </tr>\n",
       "    <tr>\n",
       "      <th>1</th>\n",
       "      <td>3</td>\n",
       "      <td>0.029543</td>\n",
       "    </tr>\n",
       "    <tr>\n",
       "      <th>2</th>\n",
       "      <td>4</td>\n",
       "      <td>0.032694</td>\n",
       "    </tr>\n",
       "    <tr>\n",
       "      <th>3</th>\n",
       "      <td>5</td>\n",
       "      <td>0.033876</td>\n",
       "    </tr>\n",
       "    <tr>\n",
       "      <th>4</th>\n",
       "      <td>6</td>\n",
       "      <td>0.042102</td>\n",
       "    </tr>\n",
       "  </tbody>\n",
       "</table>\n",
       "</div>"
      ],
      "text/plain": [
       "   Number Of Clusters  Silhouette Coefficient\n",
       "0                   2                0.022271\n",
       "1                   3                0.029543\n",
       "2                   4                0.032694\n",
       "3                   5                0.033876\n",
       "4                   6                0.042102"
      ]
     },
     "execution_count": 8,
     "metadata": {},
     "output_type": "execute_result"
    }
   ],
   "source": [
    "# After getting the list of clusters and their corresponding Silhouette Score I can store it into data frame for easier operations\n",
    "df_ = pd.DataFrame()\n",
    "df_[\"Number Of Clusters\"] = NumberOfClusters\n",
    "df_[\"Silhouette Coefficient\"] = SilhouetteCoefficient\n",
    "df_.head()"
   ]
  },
  {
   "cell_type": "code",
   "execution_count": 9,
   "metadata": {},
   "outputs": [
    {
     "data": {
      "text/plain": [
       "133    135\n",
       "Name: Number Of Clusters, dtype: int64"
      ]
     },
     "execution_count": 9,
     "metadata": {},
     "output_type": "execute_result"
    }
   ],
   "source": [
    "# Finding the value of K(Cluster Number) for which Silhouette Score is highest\n",
    "k = df_[\"Number Of Clusters\"][df_[\"Silhouette Coefficient\"] == df_[\"Silhouette Coefficient\"].max()]\n",
    "k"
   ]
  },
  {
   "cell_type": "markdown",
   "metadata": {},
   "source": [
    "### Final model with optimum number of Clusters"
   ]
  },
  {
   "cell_type": "code",
   "execution_count": 10,
   "metadata": {},
   "outputs": [],
   "source": [
    "model = KMeans(n_clusters = int(k))\n",
    "model.fit(X)\n",
    "FinalLabels = model.labels_  # Storing the final labels"
   ]
  },
  {
   "cell_type": "code",
   "execution_count": 11,
   "metadata": {},
   "outputs": [
    {
     "data": {
      "text/html": [
       "<div>\n",
       "<style scoped>\n",
       "    .dataframe tbody tr th:only-of-type {\n",
       "        vertical-align: middle;\n",
       "    }\n",
       "\n",
       "    .dataframe tbody tr th {\n",
       "        vertical-align: top;\n",
       "    }\n",
       "\n",
       "    .dataframe thead th {\n",
       "        text-align: right;\n",
       "    }\n",
       "</style>\n",
       "<table border=\"1\" class=\"dataframe\">\n",
       "  <thead>\n",
       "    <tr style=\"text-align: right;\">\n",
       "      <th></th>\n",
       "      <th>Lines</th>\n",
       "      <th>Cluster_ID</th>\n",
       "    </tr>\n",
       "  </thead>\n",
       "  <tbody>\n",
       "    <tr>\n",
       "      <th>0</th>\n",
       "      <td>Ransomware attack at Mexico's Pemex halts work...</td>\n",
       "      <td>1</td>\n",
       "    </tr>\n",
       "    <tr>\n",
       "      <th>1</th>\n",
       "      <td>#city | #ransomware | Ransomware Attack At Mex...</td>\n",
       "      <td>1</td>\n",
       "    </tr>\n",
       "    <tr>\n",
       "      <th>2</th>\n",
       "      <td>Mexico's Pemex Oil Suffers Ransomware Attack, ...</td>\n",
       "      <td>43</td>\n",
       "    </tr>\n",
       "    <tr>\n",
       "      <th>3</th>\n",
       "      <td>A Mexican oil company was hit by ransomware at...</td>\n",
       "      <td>41</td>\n",
       "    </tr>\n",
       "    <tr>\n",
       "      <th>4</th>\n",
       "      <td>Pemex Struck by Ransomware Attack</td>\n",
       "      <td>25</td>\n",
       "    </tr>\n",
       "  </tbody>\n",
       "</table>\n",
       "</div>"
      ],
      "text/plain": [
       "                                               Lines  Cluster_ID\n",
       "0  Ransomware attack at Mexico's Pemex halts work...           1\n",
       "1  #city | #ransomware | Ransomware Attack At Mex...           1\n",
       "2  Mexico's Pemex Oil Suffers Ransomware Attack, ...          43\n",
       "3  A Mexican oil company was hit by ransomware at...          41\n",
       "4                  Pemex Struck by Ransomware Attack          25"
      ]
     },
     "execution_count": 11,
     "metadata": {},
     "output_type": "execute_result"
    }
   ],
   "source": [
    "# Storing the Lines of the input file and Final Labels into data frame\n",
    "final_df = pd.DataFrame()\n",
    "final_df[\"Lines\"] = df[\"Lines\"]\n",
    "final_df[\"Cluster_ID\"] = FinalLabels\n",
    "final_df.head()"
   ]
  },
  {
   "cell_type": "code",
   "execution_count": 12,
   "metadata": {},
   "outputs": [
    {
     "data": {
      "text/plain": [
       "[['Massive Malware Attack on Organization Networks'],\n",
       " [\"Ransomware attack at Mexico's Pemex halts work, threatens to cripple computers\",\n",
       "  '#city | #ransomware | Ransomware Attack At Mexico’s Pemex Halts Work, Threatens To Cripple Computers',\n",
       "  \"Ransomware attack at Mexico's Pemex halts work, threatens to cripple computers By Reuters\",\n",
       "  'Ransomware attack at mexicos pemex halts work threatens to cripple computers'],\n",
       " ['Update: Labour website subject to second DDoS attack'],\n",
       " [\"Labour says it has been hit by 'large scale cyber attack'\",\n",
       "  \"UK Labour's digital platforms hit by large-scale cyber attack\",\n",
       "  '‘Sophisticated’ cyber attack on UK Labour Party platforms was probably just a DDoS, says official',\n",
       "  'UK Labour Party Says It Has Experienced A ‘Large Scale Cyber Attack’ On Its Digital Platforms'],\n",
       " ['‘Buran’ new ransomware evolved from VegaLocker']]"
      ]
     },
     "execution_count": 12,
     "metadata": {},
     "output_type": "execute_result"
    }
   ],
   "source": [
    "# Creating list of list where Statements belongs to a particular list belongs from the same cluster\n",
    "li = []\n",
    "for i in range(int(k)):\n",
    "    li.append([])\n",
    "\n",
    "for i in range(final_df.shape[0]):\n",
    "    li[final_df.iloc[i][1]].append(final_df.iloc[i][0])\n",
    "    \n",
    "li[0:5] # Prints list of five clusters"
   ]
  },
  {
   "cell_type": "markdown",
   "metadata": {},
   "source": [
    "### Writing into the output file (Output.txt)"
   ]
  },
  {
   "cell_type": "code",
   "execution_count": 13,
   "metadata": {},
   "outputs": [],
   "source": [
    "# Writing the statements and their corresponding cluster id in output file\n",
    "try:\n",
    "    file1 = open(\"Output.txt\",\"w\")  # open Output.txt in write mode\n",
    "    for i in range(len(li)):\n",
    "        file1.write(\"Cluster id: \"+ str(i) + \" \\n\")  # writes cluster id, example: Cluster id : 0\n",
    "        file1.writelines(li[i])  # Writes statements corresponding to the clusters\n",
    "        file1.write(\"\\n\" + \"*\"*100 + \" \\n\")  # Writes 100 stars(*) in the same format which is given in \"sample_output.txt\"\n",
    "    file1.close()  # close the file\n",
    "    print(\"Writes Successfully\")\n",
    "except:\n",
    "    print(\"Unable to write into output file\")"
   ]
  },
  {
   "cell_type": "code",
   "execution_count": null,
   "metadata": {},
   "outputs": [],
   "source": []
  }
 ],
 "metadata": {
  "kernelspec": {
   "display_name": "Python 3",
   "language": "python",
   "name": "python3"
  },
  "language_info": {
   "codemirror_mode": {
    "name": "ipython",
    "version": 3
   },
   "file_extension": ".py",
   "mimetype": "text/x-python",
   "name": "python",
   "nbconvert_exporter": "python",
   "pygments_lexer": "ipython3",
   "version": "3.6.8"
  }
 },
 "nbformat": 4,
 "nbformat_minor": 2
}
